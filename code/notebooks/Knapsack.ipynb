{
 "cells": [
  {
   "cell_type": "markdown",
   "metadata": {},
   "source": [
    "# 0-1 Knapsack problem with deap"
   ]
  },
  {
   "cell_type": "markdown",
   "metadata": {},
   "source": [
    "In this notebook, we implement many-objective [0-1 knapsack problem](https://en.wikipedia.org/wiki/Knapsack_problem#0-1_knapsack_problem) and solve it using [NSGA-II](https://web.njit.edu/~horacio/Math451H/download/2002-6-2-DEB-NSGA-II.pdf) and [NSGA-III](https://ieeexplore.ieee.org/abstract/document/6600851) genetic algorithms available in python library [``deap``](https://deap.readthedocs.io/en/master/examples/).\n",
    "\n",
    "``deap`` documentation contains an implementation of the knapsack problem available [here](https://deap.readthedocs.io/en/master/examples/ga_knapsack.html). However, the proposed implementation considers 1 knapsack and aims to simultaneously maximize the profit and minimize the weight. This notebook implements a problem that maximizes profits for multiple knapsacks. The weights of knapsacks are not optimized but should satisfy specific constraints (see the problem formulation below). Additionally, we implement individual solutions using ``array``, while the implementation from `deap` is based on `set`."
   ]
  },
  {
   "cell_type": "markdown",
   "metadata": {},
   "source": [
    "## Problem formulation"
   ]
  },
  {
   "cell_type": "markdown",
   "metadata": {},
   "source": [
    "We formulate the 0-1 knapsack problem in the same way as it is done in [(Zitzler and Eckart, 1999)](https://www.cse.unr.edu/~sushil/class/gas/papers/StrengthParetoEA.pdf).\n",
    "\n",
    "Input:\n",
    "1. $K$ - number of knapsacks\n",
    "2. $I$ - number of items\n",
    "3. $p_{k,i}$ - profit of item $i$ according to knapsack $k$\n",
    "4. $w_{k,i}$ - weight of item $i$ according to knapsack $k$\n",
    "5. $c_k$ - capasity of knapsack $k$\n",
    "\n",
    "Objective: Find a vector $\\vec{x} = (x_1, x_2, ..., x_I) \\in \\{0,1\\}^{I}$ ($x_i = 1$ if item $i$ is selected and $x_i = 0$ otherwise) to maximize the following objective function given the contraints:\n",
    "\n",
    "\n",
    "$$\n",
    "\\begin{aligned}\n",
    "  max{(f_1(\\vec{x}), f_2(\\vec{x}), ..., f_K(\\vec{x}))} \\\\\n",
    "  \\sum_{i}{w_{k,i}x_i} \\leq c_k\\\\\n",
    "  f_k(\\vec{x}) := \\sum_{i}{p_{k,i} x_{i}}\\\\\n",
    "\\end{aligned}\n",
    "$$\n",
    "\n",
    "The profits $p_{k,i}$ and weights $w_{k,i}$ are chosen as random uncorrelated integers in the interval $\\left[10, 100\\right]$. The knapsack capacities are set to half of the maximum weight regarding the corresponding knapsack:\n",
    "\n",
    "\\begin{equation}\n",
    "    c_k = 0.5 \\sum_{i} w_{k,i}\n",
    "    \\label{eq:choice-of-capacity}\n",
    "\\end{equation}\n"
   ]
  },
  {
   "cell_type": "markdown",
   "metadata": {},
   "source": [
    "A particular vector $\\vec{x}$ generated randomly or via a genetic procedure can\n",
    "violate capacity restriction of a certain knapsack.\n",
    "In this case, the greedy repair method is adopted. \n",
    "This method removes items from a particular solution until all capacity constraints are fulfilled.\n",
    "The items are removed in the ascending order of maximum profit/weight ratio  $q_i$, which is given by the following equation\n",
    "\n",
    "\\begin{equation}\n",
    "    q_i = \\max_{k} \\left\\{ \\frac{p_{k,i}}{w_{k,i}} \\right\\}\n",
    "\\end{equation}\n",
    "\n",
    "In such a way, the items with lower profit per weight unit $q_j$ are removed first.\n",
    "This procedure aims to fulfill all capacity constraints while reducing the overall profit as little as possible."
   ]
  },
  {
   "cell_type": "markdown",
   "metadata": {},
   "source": [
    "# Implementation"
   ]
  },
  {
   "cell_type": "markdown",
   "metadata": {},
   "source": [
    "In this notebook, we do not discuss how to configure `deap` in detail, but rather present a working solution. For more details, check the documentation of `deap`, in particular [One Max Problem](https://deap.readthedocs.io/en/master/examples/ga_onemax.html) example and [Knapsack Problem: Inheriting from Set](https://deap.readthedocs.io/en/master/examples/ga_knapsack.html) example."
   ]
  },
  {
   "cell_type": "markdown",
   "metadata": {},
   "source": [
    "## Imports"
   ]
  },
  {
   "cell_type": "code",
   "execution_count": 163,
   "metadata": {},
   "outputs": [],
   "source": [
    "import array\n",
    "import random\n",
    "import copy\n",
    "import time\n",
    "import subprocess\n",
    "import os\n",
    "import sys\n",
    "#from emo import min_values\n",
    "module_path = os.path.abspath(os.path.join('GA/code'))\n",
    "if module_path not in sys.path:\n",
    "    sys.path.append(module_path)\n",
    "\n",
    "import math\n",
    "import numpy as np\n",
    "#import base, creator\n",
    "from deap import base, creator\n",
    "from deap.benchmarks.tools import hypervolume\n",
    "import deap.tools as tools\n",
    "from deap.tools.emo import *\n",
    "\n",
    "import matplotlib.pyplot as plt\n",
    "from matplotlib.animation import FuncAnimation\n",
    "from IPython.display import HTML\n",
    "\n",
    "# ignore warnings\n",
    "import warnings\n",
    "\n",
    "warnings.filterwarnings('ignore')"
   ]
  },
  {
   "cell_type": "markdown",
   "metadata": {},
   "source": [
    "## Intialization of 0-1 knapsack problem: "
   ]
  },
  {
   "cell_type": "markdown",
   "metadata": {},
   "source": [
    "1. Setting random weights and profits for the given number of items $n_i$ and knapsacks $n_k$;\n",
    "2. Calculating $q_i$ for the greedy repair method."
   ]
  },
  {
   "cell_type": "code",
   "execution_count": 164,
   "metadata": {},
   "outputs": [],
   "source": [
    "# keys to access different attributes of a knapsack\n",
    "weigh_key = 'W'\n",
    "profit_key = 'P'\n",
    "capacity_key = 'C'\n",
    "q_key = 'Q'\n",
    "\n",
    "def create_knapsack(n_i=7, n_k=5, low=10, high=100, random_seed=None):\n",
    "    \"\"\"\n",
    "    n_i - number of items\n",
    "    n_k - number of knapsacks\n",
    "    low / high - boundaries for profits and weights\n",
    "    \"\"\"\n",
    "    if random_seed is not None:\n",
    "        np.random.seed(random_seed)\n",
    "    w_ki = np.random.randint(low=low, high=high + 1, size=(n_k, n_i))\n",
    "    p_ki = np.random.randint(low=low, high=high + 1, size=(n_k, n_i))\n",
    "    c_k = 0.5 * w_ki.sum(axis=1)\n",
    "    q_i = np.argsort((p_ki / w_ki).max(axis=0))\n",
    "    \n",
    "    return {weigh_key: w_ki, profit_key: p_ki, capacity_key: c_k, q_key: q_i}"
   ]
  },
  {
   "cell_type": "markdown",
   "metadata": {},
   "source": [
    "## Repair method"
   ]
  },
  {
   "cell_type": "markdown",
   "metadata": {},
   "source": [
    "Implementation of the greedy repair method."
   ]
  },
  {
   "cell_type": "code",
   "execution_count": 165,
   "metadata": {},
   "outputs": [],
   "source": [
    "# calculate number of overweight knapsacks for a given individual\n",
    "def get_num_of_overw_k(knapsack, ind):\n",
    "    return sum((knapsack[weigh_key] * ind).sum(axis=1) > knapsack[capacity_key])\n",
    "\n",
    "# repair individual\n",
    "def repair_individual_list(ind, knapsack):\n",
    "    num_of_overw_k = get_num_of_overw_k(knapsack, ind)\n",
    "    if num_of_overw_k == 0:\n",
    "        return\n",
    "    for pos in knapsack[q_key]:\n",
    "        if ind[pos] != 0:\n",
    "            ind[pos] = 0\n",
    "            num_of_overw_k = get_num_of_overw_k(knapsack, ind)\n",
    "            if num_of_overw_k == 0:\n",
    "                break\n",
    "        pass\n",
    "    pass"
   ]
  },
  {
   "cell_type": "markdown",
   "metadata": {},
   "source": [
    "## Defining different functions"
   ]
  },
  {
   "cell_type": "markdown",
   "metadata": {},
   "source": [
    "### Creation of an individual"
   ]
  },
  {
   "cell_type": "markdown",
   "metadata": {},
   "source": [
    "An individual is represented as a list of size equal to the number of items $n_i$. Every individual is initialized randomly and after that is repaired using the greedy repair method."
   ]
  },
  {
   "cell_type": "code",
   "execution_count": 166,
   "metadata": {},
   "outputs": [],
   "source": [
    "def create_individual(n_i, knapsack):\n",
    "    # randomly initialize vector x\n",
    "    ind = np.random.randint(low=0, high=1 + 1, size=n_i)\n",
    "    ind = ind.tolist()\n",
    "    # repair individual if required\n",
    "    num_of_overw_k = get_num_of_overw_k(knapsack, ind)\n",
    "    if num_of_overw_k > 0:\n",
    "        repair_individual_list(ind, knapsack)\n",
    "    # returning a required type, \n",
    "    # see definition of creator.Individual below in `Genetic optimization` section\n",
    "    return creator.Individual(ind)"
   ]
  },
  {
   "cell_type": "markdown",
   "metadata": {},
   "source": [
    "### Calculating the value of objective function for the given individual"
   ]
  },
  {
   "cell_type": "markdown",
   "metadata": {},
   "source": [
    "The value of the objective function is calculated according to the formulas provided above."
   ]
  },
  {
   "cell_type": "code",
   "execution_count": 167,
   "metadata": {},
   "outputs": [],
   "source": [
    "def eval_knapsack(knapsack, ind):\n",
    "    res = (knapsack[profit_key] * ind).sum(axis=1)\n",
    "    # deap required profits to be represented as tuples\n",
    "    return tuple(res)"
   ]
  },
  {
   "cell_type": "markdown",
   "metadata": {},
   "source": [
    "### Mating and mutation"
   ]
  },
  {
   "cell_type": "markdown",
   "metadata": {},
   "source": [
    "The following mating and mutation functions are wrappers for an arbitrary mutation or mating strategy defined as a parameter ``func``. ``func`` can be a function from ``deap`` or a function defined by the user. After calling the function defined by `func`, the resulting individuals are repaired."
   ]
  },
  {
   "cell_type": "code",
   "execution_count": 168,
   "metadata": {},
   "outputs": [],
   "source": [
    "def mate_f(knapsack, func, ind1, ind2):\n",
    "    ind1, ind2 = func(ind1, ind2)\n",
    "    repair_individual_list(ind1, knapsack)\n",
    "    repair_individual_list(ind2, knapsack)\n",
    "    return ind1, ind2\n",
    "\n",
    "def mutate_f(knapsack, func, indpb, ind):\n",
    "    ind = func(ind, indpb)[0]\n",
    "    repair_individual_list(ind, knapsack)\n",
    "    return ind,\n",
    "\n",
    "# mating with probability\n",
    "def mate_f_prob(knapsack, func, indpb, ind1, ind2):\n",
    "    ind1, ind2 = func(ind1, ind2, indpb=indpb)\n",
    "    repair_individual_list(ind1, knapsack)\n",
    "    repair_individual_list(ind2, knapsack)\n",
    "    return ind1, ind2"
   ]
  },
  {
   "cell_type": "markdown",
   "metadata": {},
   "source": [
    "### Visualization of solutions"
   ]
  },
  {
   "cell_type": "markdown",
   "metadata": {},
   "source": [
    "The class below creates an animation to visualize the evolution of solutions and hypervolume with generations."
   ]
  },
  {
   "cell_type": "code",
   "execution_count": 169,
   "metadata": {},
   "outputs": [],
   "source": [
    "class UpdateDist:\n",
    "    def __init__(self, ax, all_pop_arr, all_hypervolume_arr, legend_arr, n_obj, k_0=0, k_1=1,\n",
    "                gen_mult=1):\n",
    "        \"\"\"\n",
    "        all_pop_arr         - an array containing for every algorithm:\n",
    "                                an array of populations for every generation\n",
    "        all_hypervolume_arr - an array of hypervolume values for every generation\n",
    "        legend_arr          - names of algorithms for generating legend\n",
    "        n_obj               - number of objectives (number of knapsacks)\n",
    "        k_0 & k_1           - 2 objectives, values of which will be displayed to show the evolution\n",
    "                                of solutions\n",
    "        gen_mult            - multiplier for displaying generation number if not every generation \n",
    "                                is displayed\n",
    "        \"\"\"\n",
    "        \n",
    "        self.gen_mult = gen_mult\n",
    "        # setting the 2 chosen objectives\n",
    "        self.k_0 = k_0\n",
    "        self.k_1 = k_1\n",
    "        # setting array of arrays of populations for every generation\n",
    "        self.all_pop_arr = all_pop_arr\n",
    "        \n",
    "        # evolution of population is displayed on the first subplot\n",
    "        self.ax_pop = ax[0]\n",
    "        self.line_arr = []\n",
    "        # for every algorithm initialize a scatter plot\n",
    "        for i in range(0, len(all_pop_arr)):\n",
    "            self.line_arr.append(self.ax_pop.scatter(x=[], y=[], s=10))\n",
    "        # adding legend\n",
    "        self.ax_pop.legend(legend_arr)\n",
    "        # set plot parameters\n",
    "        self.ax_pop.set_xlim(4000, 11000)\n",
    "        self.ax_pop.set_ylim(4000, 13000)\n",
    "        self.ax_pop.grid(True)\n",
    "        self.ax_pop.title.set_text('Evolution of population')\n",
    "        self.ax_pop.set_xlabel('Objective {}'.format(k_0))\n",
    "        self.ax_pop.set_ylabel('Objective {}'.format(k_1))\n",
    "        # textbox to display current generation\n",
    "        self.gen_text = self.ax_pop.text(0.05, 0.9, '', transform=self.ax_pop.transAxes)\n",
    "        # textbox to display size of the first front\n",
    "        self.front_size_text = self.ax_pop.text(0.05, 0.8, '', transform=self.ax_pop.transAxes)\n",
    "        \n",
    "        # evolution of hypervolume is displayed on the second subplot\n",
    "        self.ax_hypv = ax[1]\n",
    "        # setting information about hypervolume for every algorithm\n",
    "        self.hypervolume_arr_list = all_hypervolume_arr\n",
    "        # itinialize a line for every algorithm\n",
    "        self.line_hypv_arr = []\n",
    "        for i in range(0, len(all_pop_arr)):\n",
    "            self.line_hypv_arr.append(self.ax_hypv.plot([], [])[0])\n",
    "        # setup plot parameters\n",
    "        self.ax_hypv.legend(legend_arr)\n",
    "        # x - number of generations\n",
    "        self.ax_hypv.set_xlim(0, len(all_pop_arr[0]) * self.gen_mult)\n",
    "        # set min and max values\n",
    "        min_val = np.min(np.array(all_hypervolume_arr))\n",
    "        max_val = np.max(np.array(all_hypervolume_arr))\n",
    "        self.ax_hypv.set_ylim(min_val*0.9, max_val*1.1)\n",
    "        self.ax_hypv.grid(True)\n",
    "        self.ax_hypv.title.set_text('Hypervolume')\n",
    "        self.ax_hypv.set_xlabel('Generation')\n",
    "        \n",
    "        \n",
    "    def __call__(self, j):\n",
    "        # initializing the display string\n",
    "        first_front_str = '1-st front = '\n",
    "        # loop through all algorithms\n",
    "        for i in range(0, len(self.all_pop_arr)):\n",
    "            # collecting values of 2 chosen objectives for the current generation\n",
    "            k_0_arr = []\n",
    "            k_1_arr = []\n",
    "            pop = self.all_pop_arr[i][j]\n",
    "            for el in pop:\n",
    "                k_0_arr.append(el.fitness.values[self.k_0])\n",
    "                k_1_arr.append(el.fitness.values[self.k_1])\n",
    "                pass\n",
    "            # displaying evolution of solutions as a scatter plot\n",
    "            self.line_arr[i].set_offsets(np.array([k_0_arr, k_1_arr]).T)\n",
    "            \n",
    "            # displaying progress of hypervolume (previous values are also displayed)\n",
    "            self.line_hypv_arr[i].set_data(\n",
    "                np.arange(j+1) * self.gen_mult, \n",
    "                self.hypervolume_arr_list[i][:j+1]\n",
    "            )\n",
    "            # calculating size of the first front\n",
    "            first_front_len_val = len(sortNondominated(pop, len(pop), first_front_only=True)[0])\n",
    "            first_front_str += str(first_front_len_val) + \"  /  \"\n",
    "            pass\n",
    "        \n",
    "        # displaying textboxes with the current generation number and front size\n",
    "        self.gen_text.set_text('Generation {}'.format(j * self.gen_mult))\n",
    "        self.front_size_text.set_text(first_front_str)\n",
    "        \n",
    "        return self.line_arr[0],  self.line_hypv_arr[0]"
   ]
  },
  {
   "cell_type": "markdown",
   "metadata": {},
   "source": [
    "### Calculating number of dominated solutions"
   ]
  },
  {
   "cell_type": "markdown",
   "metadata": {},
   "source": [
    "Function below are used to calculate number and fraction of solutions from the first front of $pop_1$ dominated by solutions from the first front of $pop_2$"
   ]
  },
  {
   "cell_type": "code",
   "execution_count": 170,
   "metadata": {},
   "outputs": [],
   "source": [
    "def get_num_dominated(pop_1, pop_2):\n",
    "    # compare just the first fronts\n",
    "    front_1 = sortNondominated(pop_1, len(pop_1), first_front_only=True)[0]\n",
    "    front_2 = sortNondominated(pop_2, len(pop_2), first_front_only=True)[0]\n",
    "    return num_dominated(front_1, front_2)\n",
    "\n",
    "def num_dominated(arr1, arr2):\n",
    "    val_dominated = 0\n",
    "    for el1 in arr1:\n",
    "        for el2 in arr2:\n",
    "            if sum(np.array(el2.fitness.values) > np.array(el1.fitness.values)) == len(el1.fitness.values):\n",
    "                val_dominated += 1\n",
    "                break\n",
    "                pass\n",
    "            pass\n",
    "        pass\n",
    "    return val_dominated, val_dominated / len(arr1), len(arr1)"
   ]
  },
  {
   "cell_type": "markdown",
   "metadata": {},
   "source": [
    "### Average distance to diagonal"
   ]
  },
  {
   "cell_type": "markdown",
   "metadata": {},
   "source": [
    "Diagonal in $n$-dimensional hyperspace is defined with the following equation: $x_1 = x_2 = \\dots = x_n$.\n",
    "In the case of $n=2$ and $x$ and $y$ being two axes, the conventional definition of the diagonal is the following: $y=x$.\n",
    "Our optimization problem is symmetric by its nature. \n",
    "This means all objectives have the same scale.\n",
    "In such a case, Euclidean distance between a solution and the diagonal shows how close or far the solution is to the extremes.\n",
    "We will be using distance to diagonal as one of the evaluation criteria. \n",
    "The corresponding function is defined below."
   ]
  },
  {
   "cell_type": "markdown",
   "metadata": {},
   "source": [
    "Calculating the distance between a point $x_m$ and diagonal is equivalent to calculating the distance between $x_m$ and $x\\_mean_m$, where all coordinates of $x\\_mean_m$ equal to the mean value of coordinates of $x_m$."
   ]
  },
  {
   "cell_type": "code",
   "execution_count": 171,
   "metadata": {},
   "outputs": [],
   "source": [
    "def calc_avg_dist_diag(front):\n",
    "    dist_diag = []\n",
    "    for el in front:\n",
    "        point = np.array(el.fitness.values)\n",
    "        mean_val = point.mean() \n",
    "        dist_point = np.array([mean_val for i in range(0, len(point))])\n",
    "        dist_diag.append(np.linalg.norm(point - dist_point))\n",
    "        pass\n",
    "    \n",
    "    return np.mean(dist_diag)"
   ]
  },
  {
   "cell_type": "markdown",
   "metadata": {},
   "source": [
    "## Genetic optimization"
   ]
  },
  {
   "cell_type": "markdown",
   "metadata": {},
   "source": [
    "Below we define the genetic optimization algorithm consisting of the following steps:\n",
    "1. Generate random population\n",
    "2. Continue for the given number of generations:\n",
    "    1. Select parents for mating\n",
    "    2. Produce offsprings via mating and mutation\n",
    "    3. Select the best individuals from the combined population (population of the previous generation + generated offsprings).\n",
    "    \n",
    "See the comments in the code for input parameters and details of implementation."
   ]
  },
  {
   "cell_type": "code",
   "execution_count": 172,
   "outputs": [],
   "source": [
    "def compare_usual(ind1, ind2):\n",
    "    dominate1 = True\n",
    "    dominate2 = True\n",
    "    for j in range(len(ind1.fitness.values)):\n",
    "        if ind1.fitness.values[j]>ind2.fitness.values[j]:\n",
    "            dominate2 = False\n",
    "        if ind1.fitness.values[j]<ind2.fitness.values[j]:\n",
    "            dominate1 = False\n",
    "    if not dominate1 and not dominate2:\n",
    "        return 0\n",
    "    elif dominate1:\n",
    "        return 1\n",
    "    elif dominate2:\n",
    "        return -1\n",
    "\n",
    "def archive_dominate_ind(archive,ind):\n",
    "    for i in archive:\n",
    "        dflag = True\n",
    "        flag = False\n",
    "        for j in range(len(i.fitness.vector)):\n",
    "            if ind.fitness.vector[j]>i.fitness.vector[j]:\n",
    "                dflag = False\n",
    "                break\n",
    "            elif ind.fitness.vector[j]<i.fitness.vector[j]:\n",
    "                flag = True\n",
    "        if dflag and flag:\n",
    "            return True\n",
    "    return False\n",
    "\n",
    "def ind_dominate_archive(archive,ind):\n",
    "    counter = 0\n",
    "    for i in reversed(range(len(archive))):\n",
    "        dflag = False\n",
    "        flag = True\n",
    "        for j in range(len(archive[i].fitness.vector)):\n",
    "            if ind.fitness.vector[j]>archive[i].fitness.vector[j]:\n",
    "                dflag = True\n",
    "            elif ind.fitness.vector[j]<archive[i].fitness.vector[j]:\n",
    "                flag = False\n",
    "                break\n",
    "        if dflag and flag:\n",
    "            counter += 1\n",
    "            archive.pop(i)\n",
    "    return counter\n",
    "\n",
    "def archive_non_dominated1(archive, ind):\n",
    "    for i in reversed(range(len(archive))):\n",
    "        dflag = True\n",
    "        for j in range(len(archive[i].fitness.vector)):\n",
    "            if ind.fitness.vector[j]!=archive[i].fitness.vector[j]:\n",
    "                dflag = False\n",
    "                break\n",
    "        if dflag:\n",
    "            flag  = compare_usual(ind, archive[i])\n",
    "            if flag == 1 or flag == 0:\n",
    "                archive.pop(i)\n",
    "                archive.append(ind)\n",
    "                return True\n",
    "\n",
    "\n",
    "def archive_update(archive, ind, epsilon):\n",
    "    eps_box(ind, epsilon)\n",
    "    if archive_dominate_ind(archive,ind):\n",
    "        return archive\n",
    "    elif ind_dominate_archive(archive, ind) > 0:\n",
    "        return archive\n",
    "    elif archive_non_dominated1(archive, ind):\n",
    "        return True\n",
    "    else:\n",
    "        archive.append(ind)\n",
    "        return archive\n",
    "\n",
    "\n",
    "\n",
    "\n",
    "#Calculating B in epsilon dominance\n",
    "def eps_box(ind,epsilon):\n",
    "    ind.fitness.vector = []\n",
    "    for i in range(len(ind.fitness.values)):\n",
    "        ind.fitness.vector.append(math.ceil(float(ind.fitness.values[i])/epsilon))\n",
    "\n",
    "\n"
   ],
   "metadata": {
    "collapsed": false,
    "pycharm": {
     "name": "#%%\n"
    }
   }
  },
  {
   "cell_type": "code",
   "execution_count": 173,
   "metadata": {},
   "outputs": [],
   "source": [
    "def main_evolve(\n",
    "    algo='NSGA-2',               \n",
    "    knapsack_seed=0,             \n",
    "    n_i=250,                     \n",
    "    n_k=5,                       \n",
    "    pop_size=200,    \n",
    "    pop_seed=0,\n",
    "    NGEN=10,                     \n",
    "    knapsack=None,               \n",
    "    is_unique_solutions=False,   \n",
    "    num_iter_repair=0,           \n",
    "    mating_algo='uniform',       \n",
    "    sel_for_mating='random',      \n",
    "    freq_cald_hypervolume=10, \n",
    "    is_save_all_gen=False,\n",
    "    mating_prob=0.8,\n",
    "    mutate_prob=0.01,\n",
    "    p=None,\n",
    "    freq_print_gen=None,\n",
    "    epsilon = 0.01\n",
    "):\n",
    "    \n",
    "    \"\"\"\n",
    "    algo='NSGA-2'               # sorting algorithm; possible values \n",
    "                                              [NSGA-2, NSGA-3, PO-count, PO-prob, PO-prob-repair]\n",
    "    knapsack_seed=0             # random seed for initializing the knapsack\n",
    "    n_i=250                     # number of items\n",
    "    n_k=5                       # number of knapsacks\n",
    "    pop_size=200                # population size\n",
    "    pop_seed=0                  # random seed for generating the initial population; if None - random\n",
    "                                                population is generated\n",
    "    NGEN=10                     # number of generations\n",
    "    knapsack=None               # already initialized knapsacks; \n",
    "                                               if knapsack is None, a new knapsack is initialized\n",
    "                                               using `knapsack_seed`\n",
    "    is_unique_solutions=False   # if True, make sure that there are no duplicates in population\n",
    "    num_iter_repair=0           # number of repair iterations for PO-prob-repair\n",
    "    mating_algo='uniform'       # if 'uniform' - mating function is `deap.tools.cxUniform`, \n",
    "                                               else - `deap.tools.cxOnePoint`\n",
    "    sel_for_mating='random'     # strategy for selecting parents for mating\n",
    "                                               possible values: ['random', 'best', 'tournament']\n",
    "                                               the corresponding function are:\n",
    "                                               [deap.tools.selRandom, deap.tools.selBest, \n",
    "                                                                   deap.tools.selTournament];\n",
    "                                                Tournamement size is 2\n",
    "    freq_cald_hypervolume=10    # frequency of calculating hypervolume in number of generation;\n",
    "                                                hypervolume is kept constant inbetween.\n",
    "    is_save_all_gen=False       # if True, save entire population for every generation\n",
    "    mating_prob=0.8             # mating probability\n",
    "    mutate_prob=0.01            # mutation probability\n",
    "    p                           # parameter p of `deap.tools.emo.uniform_reference_points`\n",
    "                                    for generation of uniformly distributed reference points for\n",
    "                                    NSGA-III\n",
    "    freq_print_gen=None         # frequency to print generation number; if None - not printed at all\n",
    "    \n",
    "    RETURN\n",
    "    pop     - last population\n",
    "    logbook - statistics about the evolution process\n",
    "    pop_arr - array of all intermediate populations;\n",
    "                if is_save_all_gen==False, pop_arr=None\n",
    "    \n",
    "    \"\"\"\n",
    "    \n",
    "    # initialize new knapsack if required\n",
    "    if knapsack is None:\n",
    "        knapsack = create_knapsack(n_i=n_i, n_k=n_k, random_seed=knapsack_seed)\n",
    "    else:\n",
    "        print('Using existing knapsack')\n",
    "    \n",
    "    # optimization function is to be maximized; \n",
    "    # number of objectives is equal to the number of knapsacks\n",
    "    creator.create(\"FitnessMax\", base.Fitness, weights=(1.0,) * n_k)\n",
    "    # every individual is a list\n",
    "    creator.create(\"Individual\", list, fitness=creator.FitnessMax)\n",
    "    \n",
    "    # toolbox initialization\n",
    "    toolbox = base.Toolbox()\n",
    "    # use create_individual function defined above to create individuals\n",
    "    toolbox.register(\"individual\", create_individual, n_i, knapsack)\n",
    "    toolbox.register(\"population\", tools.initRepeat, list, toolbox.individual)\n",
    "    # register evaluation function defined above\n",
    "    toolbox.register(\"evaluate\", eval_knapsack, knapsack)\n",
    "    \n",
    "    # set mating algorithm according to input parameters\n",
    "    if mating_algo == 'uniform':\n",
    "        toolbox.register(\"mate\", mate_f_prob, knapsack, tools.cxUniform, 0.5)\n",
    "    else:\n",
    "        toolbox.register(\"mate\", mate_f, knapsack, tools.cxOnePoint)\n",
    "        \n",
    "    # set mutation algorithm that will randomly change 0 for 1 and vice versa in the solution\n",
    "    toolbox.register(\"mutate\", mutate_f, knapsack, tools.mutFlipBit, mutate_prob)\n",
    "    \n",
    "    # set the strategy for selecting new population according to the chosen algorithm\n",
    "    if algo == 'NSGA-2':\n",
    "        toolbox.register(\"select\", tools.selNSGA2, nd='standard',)\n",
    "    elif algo == 'PO-count':\n",
    "        toolbox.register(\"select\", tools.selPO)\n",
    "    elif algo == 'PO-prob' or algo == 'PO-prob-repair':\n",
    "        toolbox.register(\"select\", tools.selPO, nd='prob',)\n",
    "    elif algo == 'WS':\n",
    "        toolbox.register(\"select\", tools.emo.selWS, nd='standard')\n",
    "    elif algo == 'AR':\n",
    "        toolbox.register(\"select\", tools.emo.selAR, nd='standard')\n",
    "    elif algo == 'Eps-MOEA':\n",
    "        toolbox.register(\"select\", tools.emo.selNSGA2, nd='standard')\n",
    "    elif algo == 'NSGA-3':\n",
    "        ref_points_nsga3 = uniform_reference_points(n_k, p)\n",
    "        toolbox.register(\"select\", tools.selNSGA3, ref_points=ref_points_nsga3, nd='standard',)\n",
    "        pass\n",
    "\n",
    "    # initializing logbook to track evolution\n",
    "    stats = tools.Statistics(lambda ind: ind.fitness.values)\n",
    "    logbook = tools.Logbook()\n",
    "    stats.register(\"avg\", np.mean, axis=0)\n",
    "    stats.register(\"min\", np.min, axis=0)\n",
    "    stats.register(\"max\", np.max, axis=0)\n",
    "    # the following information will be tracked:\n",
    "    # gen - current generation\n",
    "    # evals - number of evaluations of the objective function\n",
    "    # avg / min / max - average / min / max value of objectives\n",
    "    # hypervol - hypervolume\n",
    "    # dist_diag - average distance to diagonal\n",
    "    # time - time for sorting the population according to the toolbox.select algorithm set above\n",
    "    # firts_front - size of the first front\n",
    "    logbook.header = \"gen\", \"evals\", \"avg\", \"min\", \"max\", \"hypervol\", \"dist_diag\", \\\n",
    "                        \"time\", 'firts_front'\n",
    "\n",
    "    # generate initial population\n",
    "    if pop_seed is not None:\n",
    "        print('Setting random seed to {}'.format(pop_seed))\n",
    "        random.seed(pop_seed)\n",
    "        np.random.seed(pop_seed)\n",
    "    pop = toolbox.population(n=pop_size)\n",
    "    # Evaluate the individuals\n",
    "    invalid_ind = [ind for ind in pop if not ind.fitness.valid]\n",
    "    fitnesses = toolbox.map(toolbox.evaluate, invalid_ind)\n",
    "    for ind, fit in zip(invalid_ind, fitnesses):\n",
    "        ind.fitness.values = fit\n",
    "    # This is just to assign the distance to the individuals\n",
    "    # no actual selection is done\n",
    "    s = time.time()\n",
    "    pop = toolbox.select(pop, len(pop))\n",
    "    tot_time = time.time() - s\n",
    "    # gether statistics for the generation 0\n",
    "    front_1 = sortNondominated(pop, len(pop), first_front_only=True)[0]\n",
    "    print('front 1:',len(front_1))\n",
    "    if algo == 'Eps-MOEA':\n",
    "        archive = copy.deepcopy(front_1)\n",
    "        for i in range(len(archive)):\n",
    "            eps_box(archive[i],epsilon)\n",
    "    hypervol_val = calc_hypervolume_java(front_1)[1]\n",
    "    record = stats.compile(pop)\n",
    "    logbook.record(gen=0, evals=len(invalid_ind), hypervol=hypervol_val, \n",
    "                   dist_diag=calc_avg_dist_diag(front_1),\n",
    "                   time=tot_time, firts_front=len(front_1), **record)\n",
    "\n",
    "    # save the current population, if required\n",
    "    if is_save_all_gen:\n",
    "        pop_arr = [copy.deepcopy(pop)]\n",
    "    else:\n",
    "        pop_arr = None\n",
    "        \n",
    "    # begin evolution\n",
    "    for gen in range(1, NGEN+1):\n",
    "        if freq_print_gen is not None and gen % freq_print_gen == 0:\n",
    "            print(gen)\n",
    "        if algo == 'PO-prob-repair' and gen == (NGEN-num_iter_repair):\n",
    "            # repair last num_iter_repair generations\n",
    "            toolbox.register(\"select\", tools.selNSGA2, nd='standard',)\n",
    "            pass\n",
    "\n",
    "        \n",
    "        # Vary the population\n",
    "        if sel_for_mating == 'random':\n",
    "            offspring = tools.selRandom(pop, len(pop))\n",
    "        elif sel_for_mating == 'best':\n",
    "            offspring = tools.selBest(pop, len(pop))\n",
    "            pass\n",
    "        elif sel_for_mating == 'tournament':\n",
    "            offspring = tools.selTournament(pop, len(pop), tournsize=2)\n",
    "            pass\n",
    "        \n",
    "        offspring = [toolbox.clone(ind) for ind in offspring]\n",
    "\n",
    "        if is_unique_solutions:\n",
    "            # make sure that every new solution is unique by storing storing all existing solutions\n",
    "            # in a set of stings\n",
    "            pop_str_set = set([str(pop[i]) for i in range(0, len(pop))])\n",
    "            if algo == 'Eps-MOEA':\n",
    "                arch_str_set = set([str(archive[i]) for i in range(0, len(archive))])\n",
    "\n",
    "        #Case for Epsilon-dominance\n",
    "\n",
    "        if algo == 'Eps-MOEA':\n",
    "            pre_archive = []\n",
    "            for ind1 in offspring[::2]:\n",
    "                #Choosing individual from the archive\n",
    "                #???\n",
    "                ind2 = random.choice(copy.deepcopy(archive))\n",
    "\n",
    "                if random.random() <= mating_prob:\n",
    "                    toolbox.mate(ind1, ind2)\n",
    "                toolbox.mutate(ind1)\n",
    "                toolbox.mutate(ind2)\n",
    "                if is_unique_solutions:\n",
    "                    # mutate, until we get new idividual\n",
    "                    while str(ind1) in pop_str_set:\n",
    "                        toolbox.mutate(ind1)\n",
    "                        pass\n",
    "                    pop_str_set.add(str(ind1))\n",
    "                if is_unique_solutions:\n",
    "                    # mutate, until we get new idividual\n",
    "                    while str(ind2) in arch_str_set:\n",
    "                        toolbox.mutate(ind2)\n",
    "                        pass\n",
    "                    arch_str_set.add(str(ind2))\n",
    "                del ind1.fitness.values, ind2.fitness.values\n",
    "                pre_archive.append(ind1)\n",
    "                pre_archive.append(ind2)\n",
    "        else:\n",
    "            for ind1, ind2 in zip(offspring[::2], offspring[1::2]):\n",
    "                if random.random() <= mating_prob:\n",
    "                    toolbox.mate(ind1, ind2)\n",
    "                toolbox.mutate(ind1)\n",
    "                toolbox.mutate(ind2)\n",
    "                if is_unique_solutions:\n",
    "                    # mutate, until we get new idividual\n",
    "                    while str(ind1) in pop_str_set:\n",
    "                        toolbox.mutate(ind1)\n",
    "                        pass\n",
    "                    pop_str_set.add(str(ind1))\n",
    "                if is_unique_solutions:\n",
    "                    # mutate, until we get new idividual\n",
    "                    while str(ind2) in pop_str_set:\n",
    "                        toolbox.mutate(ind2)\n",
    "                        pass\n",
    "                    pop_str_set.add(str(ind2))\n",
    "                # fitness values should be re-calculated\n",
    "                del ind1.fitness.values, ind2.fitness.values\n",
    "\n",
    "        # Evaluate the individuals with invalid fitness\n",
    "        invalid_ind = [ind for ind in offspring if not ind.fitness.valid]\n",
    "        fitnesses = toolbox.map(toolbox.evaluate, invalid_ind)\n",
    "        for ind, fit in zip(invalid_ind, fitnesses):\n",
    "            ind.fitness.values = fit\n",
    "        if algo == 'Eps-MOEA':\n",
    "            invalid_ind_arch = [ind for ind in pre_archive if not ind.fitness.valid]\n",
    "            fitnesses_arch = toolbox.map(toolbox.evaluate, invalid_ind_arch)\n",
    "            for ind, fit in zip(invalid_ind_arch, fitnesses_arch):\n",
    "                ind.fitness.values = fit\n",
    "            for i in pre_archive:\n",
    "                archive_update(archive,i,epsilon)\n",
    "\n",
    "        # Select the population for the next generation\n",
    "        s = time.time()\n",
    "        if algo == 'Eps-MOEA':\n",
    "            pop = toolbox.select(pop + pre_archive, pop_size)\n",
    "        else:\n",
    "            pop = toolbox.select(pop + offspring, pop_size)\n",
    "        tot_time = time.time() - s\n",
    "\n",
    "        record = stats.compile(pop)\n",
    "        # size of the first front\n",
    "\n",
    "        front_1 = sortNondominated(pop, len(pop), first_front_only=True)[0]\n",
    "        # calculate hypervolume if required, otherwise save the previous result\n",
    "        if gen % freq_cald_hypervolume == 0 or gen == NGEN:\n",
    "            if algo == 'Eps-MOEA':\n",
    "                hypervol_val = calc_hypervolume_java(archive)[1]\n",
    "                print(hypervol_val)\n",
    "                logbook.record(gen=gen, evals=len(invalid_ind_arch), hypervol=hypervol_val,\n",
    "                       dist_diag=calc_avg_dist_diag(archive),\n",
    "                       time=tot_time, firts_front=len(archive), **record)\n",
    "            else:\n",
    "                hypervol_val = calc_hypervolume_java(front_1)[1]\n",
    "                print(hypervol_val)\n",
    "                logbook.record(gen=gen, evals=len(invalid_ind), hypervol=hypervol_val,\n",
    "                       dist_diag=calc_avg_dist_diag(front_1),\n",
    "                       time=tot_time, firts_front=len(front_1), **record)\n",
    "        # save current generation if required\n",
    "        if is_save_all_gen:\n",
    "            pop_arr.append(copy.deepcopy(pop))\n",
    "            \n",
    "        pass\n",
    "    if algo == 'Eps-MOEA':\n",
    "        return archive, logbook, pop_arr\n",
    "    else:\n",
    "        return pop, logbook, pop_arr"
   ]
  },
  {
   "cell_type": "code",
   "execution_count": 174,
   "metadata": {},
   "outputs": [],
   "source": [
    "def calc_hypervolume_java(front, num_test=10000000):\n",
    "    path = module_path +'/batch-analysis/'\n",
    "    print (path)\n",
    "    start = time.time()\n",
    "    fitness_vals_arr = [list(front[i].fitness.values) for i in range(0, len(front))]\n",
    "    with open('fitness_vals.txt', 'w') as f:\n",
    "        for line in fitness_vals_arr:\n",
    "            line_str = ''\n",
    "            for el in line:\n",
    "                line_str += str(el) + ' '\n",
    "                pass\n",
    "            f.write(line_str[:-1] + '\\n')\n",
    "            pass\n",
    "        pass\n",
    "    subprocess.run([\"java\", path + \"Hypervolume\", str(num_test)])\n",
    "    with open(path + 'hypervolume.txt') as f:\n",
    "        for line in f:\n",
    "            num_hits = int(line)\n",
    "            break\n",
    "    max_vals = np.array(fitness_vals_arr).max(axis=0)\n",
    "    return num_hits, max_vals.prod()*num_hits/num_test, time.time() - start"
   ]
  },
  {
   "cell_type": "markdown",
   "metadata": {},
   "source": [
    "# Optimization"
   ]
  },
  {
   "cell_type": "markdown",
   "metadata": {},
   "source": [
    "Setting input parameters"
   ]
  },
  {
   "cell_type": "code",
   "execution_count": 175,
   "metadata": {},
   "outputs": [],
   "source": [
    "n_k = 2\n",
    "n_i=250\n",
    "pop_size = 250\n",
    "ngen = 500\n",
    "\n",
    "mating_algo = 'uniform'\n",
    "# Calculation of hypervolume becomes longer for larger values of n_k. Increasing freq_cal_hypvol\n",
    "# will speed up the evolution\n",
    "freq_cal_hypvol = 50\n",
    "freq_print_gen = 10\n",
    "is_unique_solutions = True\n",
    "is_save_all_gen = True\n",
    "mating_prob = 1\n",
    "mutate_prob = 0.01\n",
    "\n",
    "# possible values : ['random', 'best', 'tournament']\n",
    "parent_selection_method = 'random'\n",
    "\n",
    "\n",
    "# setting a random seed for generating reproducible results\n",
    "# and starting from the same population for different algorithms\n",
    "seed_val = 20"
   ]
  },
  {
   "cell_type": "markdown",
   "metadata": {},
   "source": [
    "Creating a knapsack"
   ]
  },
  {
   "cell_type": "code",
   "execution_count": 176,
   "metadata": {
    "scrolled": true
   },
   "outputs": [],
   "source": [
    "knapsack = create_knapsack(n_i=n_i, n_k=n_k, random_seed=0)"
   ]
  },
  {
   "cell_type": "markdown",
   "metadata": {},
   "source": [
    "## NSGA-II"
   ]
  },
  {
   "cell_type": "markdown",
   "metadata": {},
   "source": [
    "The process takes time, decrease the values of `freq_print_gen` to see it moving faster."
   ]
  },
  {
   "cell_type": "code",
   "execution_count": 177,
   "metadata": {
    "scrolled": false
   },
   "outputs": [
    {
     "name": "stdout",
     "output_type": "stream",
     "text": [
      "Using existing knapsack\n",
      "Setting random seed to 20\n",
      "front 1: 2\n",
      "C:\\Users\\Света\\GA\\code/batch-analysis/\n",
      "10\n"
     ]
    },
    {
     "ename": "KeyboardInterrupt",
     "evalue": "",
     "output_type": "error",
     "traceback": [
      "\u001B[1;31m---------------------------------------------------------------------------\u001B[0m",
      "\u001B[1;31mKeyboardInterrupt\u001B[0m                         Traceback (most recent call last)",
      "\u001B[1;32mC:\\Users\\32E7~1\\AppData\\Local\\Temp/ipykernel_4480/2468725672.py\u001B[0m in \u001B[0;36m<module>\u001B[1;34m\u001B[0m\n\u001B[0;32m      2\u001B[0m \u001B[1;33m\u001B[0m\u001B[0m\n\u001B[0;32m      3\u001B[0m \u001B[0mstart\u001B[0m \u001B[1;33m=\u001B[0m \u001B[0mtime\u001B[0m\u001B[1;33m.\u001B[0m\u001B[0mtime\u001B[0m\u001B[1;33m(\u001B[0m\u001B[1;33m)\u001B[0m\u001B[1;33m\u001B[0m\u001B[1;33m\u001B[0m\u001B[0m\n\u001B[1;32m----> 4\u001B[1;33m pop_nsga2, stats_nsga2, pop_arr_nsga2 = main_evolve(\n\u001B[0m\u001B[0;32m      5\u001B[0m     \u001B[0malgo\u001B[0m\u001B[1;33m=\u001B[0m\u001B[1;34m'NSGA-2'\u001B[0m\u001B[1;33m,\u001B[0m\u001B[1;33m\u001B[0m\u001B[1;33m\u001B[0m\u001B[0m\n\u001B[0;32m      6\u001B[0m     \u001B[0mknapsack_seed\u001B[0m\u001B[1;33m=\u001B[0m\u001B[1;32mNone\u001B[0m\u001B[1;33m,\u001B[0m\u001B[1;33m\u001B[0m\u001B[1;33m\u001B[0m\u001B[0m\n",
      "\u001B[1;32mC:\\Users\\32E7~1\\AppData\\Local\\Temp/ipykernel_4480/632009677.py\u001B[0m in \u001B[0;36mmain_evolve\u001B[1;34m(algo, knapsack_seed, n_i, n_k, pop_size, pop_seed, NGEN, knapsack, is_unique_solutions, num_iter_repair, mating_algo, sel_for_mating, freq_cald_hypervolume, is_save_all_gen, mating_prob, mutate_prob, p, freq_print_gen, epsilon)\u001B[0m\n\u001B[0;32m    257\u001B[0m             \u001B[0mpop\u001B[0m \u001B[1;33m=\u001B[0m \u001B[0mtoolbox\u001B[0m\u001B[1;33m.\u001B[0m\u001B[0mselect\u001B[0m\u001B[1;33m(\u001B[0m\u001B[0mpop\u001B[0m \u001B[1;33m+\u001B[0m \u001B[0mpre_archive\u001B[0m\u001B[1;33m,\u001B[0m \u001B[0mpop_size\u001B[0m\u001B[1;33m)\u001B[0m\u001B[1;33m\u001B[0m\u001B[1;33m\u001B[0m\u001B[0m\n\u001B[0;32m    258\u001B[0m         \u001B[1;32melse\u001B[0m\u001B[1;33m:\u001B[0m\u001B[1;33m\u001B[0m\u001B[1;33m\u001B[0m\u001B[0m\n\u001B[1;32m--> 259\u001B[1;33m             \u001B[0mpop\u001B[0m \u001B[1;33m=\u001B[0m \u001B[0mtoolbox\u001B[0m\u001B[1;33m.\u001B[0m\u001B[0mselect\u001B[0m\u001B[1;33m(\u001B[0m\u001B[0mpop\u001B[0m \u001B[1;33m+\u001B[0m \u001B[0moffspring\u001B[0m\u001B[1;33m,\u001B[0m \u001B[0mpop_size\u001B[0m\u001B[1;33m)\u001B[0m\u001B[1;33m\u001B[0m\u001B[1;33m\u001B[0m\u001B[0m\n\u001B[0m\u001B[0;32m    260\u001B[0m         \u001B[0mtot_time\u001B[0m \u001B[1;33m=\u001B[0m \u001B[0mtime\u001B[0m\u001B[1;33m.\u001B[0m\u001B[0mtime\u001B[0m\u001B[1;33m(\u001B[0m\u001B[1;33m)\u001B[0m \u001B[1;33m-\u001B[0m \u001B[0ms\u001B[0m\u001B[1;33m\u001B[0m\u001B[1;33m\u001B[0m\u001B[0m\n\u001B[0;32m    261\u001B[0m \u001B[1;33m\u001B[0m\u001B[0m\n",
      "\u001B[1;32m~\\GA\\code\\deap\\tools\\emo.py\u001B[0m in \u001B[0;36mselNSGA2\u001B[1;34m(individuals, k, nd)\u001B[0m\n\u001B[0;32m    378\u001B[0m     \"\"\"\n\u001B[0;32m    379\u001B[0m     \u001B[1;32mif\u001B[0m \u001B[0mnd\u001B[0m \u001B[1;33m==\u001B[0m \u001B[1;34m'standard'\u001B[0m\u001B[1;33m:\u001B[0m\u001B[1;33m\u001B[0m\u001B[1;33m\u001B[0m\u001B[0m\n\u001B[1;32m--> 380\u001B[1;33m         \u001B[0mpareto_fronts\u001B[0m \u001B[1;33m=\u001B[0m \u001B[0msortNondominated\u001B[0m\u001B[1;33m(\u001B[0m\u001B[0mindividuals\u001B[0m\u001B[1;33m,\u001B[0m \u001B[0mk\u001B[0m\u001B[1;33m)\u001B[0m\u001B[1;33m\u001B[0m\u001B[1;33m\u001B[0m\u001B[0m\n\u001B[0m\u001B[0;32m    381\u001B[0m     \u001B[1;32melif\u001B[0m \u001B[0mnd\u001B[0m \u001B[1;33m==\u001B[0m \u001B[1;34m'log'\u001B[0m\u001B[1;33m:\u001B[0m\u001B[1;33m\u001B[0m\u001B[1;33m\u001B[0m\u001B[0m\n\u001B[0;32m    382\u001B[0m         \u001B[0mpareto_fronts\u001B[0m \u001B[1;33m=\u001B[0m \u001B[0msortLogNondominated\u001B[0m\u001B[1;33m(\u001B[0m\u001B[0mindividuals\u001B[0m\u001B[1;33m,\u001B[0m \u001B[0mk\u001B[0m\u001B[1;33m)\u001B[0m\u001B[1;33m\u001B[0m\u001B[1;33m\u001B[0m\u001B[0m\n",
      "\u001B[1;32m~\\GA\\code\\deap\\tools\\emo.py\u001B[0m in \u001B[0;36msortNondominated\u001B[1;34m(individuals, k, first_front_only)\u001B[0m\n\u001B[0;32m    435\u001B[0m                 \u001B[0mdominated_fits\u001B[0m\u001B[1;33m[\u001B[0m\u001B[0mfit_i\u001B[0m\u001B[1;33m]\u001B[0m\u001B[1;33m.\u001B[0m\u001B[0mappend\u001B[0m\u001B[1;33m(\u001B[0m\u001B[0mfit_j\u001B[0m\u001B[1;33m)\u001B[0m\u001B[1;33m\u001B[0m\u001B[1;33m\u001B[0m\u001B[0m\n\u001B[0;32m    436\u001B[0m             \u001B[1;32melif\u001B[0m \u001B[0mfit_j\u001B[0m\u001B[1;33m.\u001B[0m\u001B[0mdominates\u001B[0m\u001B[1;33m(\u001B[0m\u001B[0mfit_i\u001B[0m\u001B[1;33m)\u001B[0m\u001B[1;33m:\u001B[0m\u001B[1;33m\u001B[0m\u001B[1;33m\u001B[0m\u001B[0m\n\u001B[1;32m--> 437\u001B[1;33m                 \u001B[0mdominating_fits\u001B[0m\u001B[1;33m[\u001B[0m\u001B[0mfit_i\u001B[0m\u001B[1;33m]\u001B[0m \u001B[1;33m+=\u001B[0m \u001B[1;36m1\u001B[0m\u001B[1;33m\u001B[0m\u001B[1;33m\u001B[0m\u001B[0m\n\u001B[0m\u001B[0;32m    438\u001B[0m                 \u001B[0mdominated_fits\u001B[0m\u001B[1;33m[\u001B[0m\u001B[0mfit_j\u001B[0m\u001B[1;33m]\u001B[0m\u001B[1;33m.\u001B[0m\u001B[0mappend\u001B[0m\u001B[1;33m(\u001B[0m\u001B[0mfit_i\u001B[0m\u001B[1;33m)\u001B[0m\u001B[1;33m\u001B[0m\u001B[1;33m\u001B[0m\u001B[0m\n\u001B[0;32m    439\u001B[0m         \u001B[1;32mif\u001B[0m \u001B[0mdominating_fits\u001B[0m\u001B[1;33m[\u001B[0m\u001B[0mfit_i\u001B[0m\u001B[1;33m]\u001B[0m \u001B[1;33m==\u001B[0m \u001B[1;36m0\u001B[0m\u001B[1;33m:\u001B[0m\u001B[1;33m\u001B[0m\u001B[1;33m\u001B[0m\u001B[0m\n",
      "\u001B[1;31mKeyboardInterrupt\u001B[0m: "
     ]
    }
   ],
   "source": [
    "random.seed(seed_val)\n",
    "\n",
    "start = time.time()\n",
    "pop_nsga2, stats_nsga2, pop_arr_nsga2 = main_evolve(\n",
    "    algo='NSGA-2',               \n",
    "    knapsack_seed=None,             \n",
    "    n_i=n_i,                     \n",
    "    n_k=n_k,                       \n",
    "    pop_size=pop_size,  \n",
    "    pop_seed=seed_val,\n",
    "    NGEN=ngen,                     \n",
    "    knapsack=knapsack,               \n",
    "    is_unique_solutions=is_unique_solutions,   \n",
    "    num_iter_repair=None,           \n",
    "    mating_algo=mating_algo,       \n",
    "    sel_for_mating=parent_selection_method,      \n",
    "    freq_cald_hypervolume=freq_cal_hypvol, \n",
    "    is_save_all_gen=is_save_all_gen,\n",
    "    mating_prob=mating_prob,\n",
    "    mutate_prob=mutate_prob,\n",
    "    p=None,\n",
    "    freq_print_gen=freq_print_gen,\n",
    ")\n",
    "end = time.time()\n",
    "print('Elapsed {}'.format(end-start))\n",
    "\n",
    "pop = pop_nsga2\n",
    "\n",
    "# plot the values 1st and the 2d objectives for solutions from the last population and the first\n",
    "# front of this population\n",
    "pop_fitness = np.array([ind.fitness.values for ind in pop])\n",
    "plt.scatter(pop_fitness[:, 0], pop_fitness[:, 1], c=\"b\")\n",
    "front_1 = sortNondominated(pop, len(pop), first_front_only=True)\n",
    "front_1_vals = np.array([ind.fitness.values for ind in front_1[0]])\n",
    "plt.scatter(front_1_vals[:, 0], front_1_vals[:, 1], c=\"r\")\n",
    "plt.axis(\"tight\")\n",
    "plt.title('Last population')\n",
    "plt.xlabel('Knapsack 0')\n",
    "plt.ylabel('Knapsack 1')\n",
    "plt.legend(['All solutions', '1st front, {} ({}%)'\n",
    "            .format(len(front_1_vals), len(front_1_vals) * 100. / pop_size)])\n",
    "plt.show()"
   ]
  },
  {
   "cell_type": "markdown",
   "metadata": {},
   "source": [
    "## NSGA-III"
   ]
  },
  {
   "cell_type": "markdown",
   "metadata": {},
   "source": [
    "### Reference points"
   ]
  },
  {
   "cell_type": "markdown",
   "metadata": {},
   "source": [
    "NSGA-III requires user-provided reference points. \n",
    "We use `deap.tools.emo.uniform_reference_points` method to generate uniformly distributed reference points. \n",
    "This function takes 2 input parameters: `nobj` (number of objectives) and `p`.\n",
    "Check the [original NSGA-III paper](https://ieeexplore.ieee.org/abstract/document/6600851) to learn how the uniformly distributed reference points can be generated. \n",
    "\n",
    "As suggested by the authors of NSGA-III, the number of reference points should be close to the value of population size.\n",
    "Below we define the values of p that for a particular number of objectives generate approximately 250 reference points (for $pop\\_size = 250$)."
   ]
  },
  {
   "cell_type": "code",
   "execution_count": 182,
   "metadata": {},
   "outputs": [],
   "source": [
    "def get_p(n_k=2):\n",
    "    if n_k == 2:\n",
    "        return 250\n",
    "    if n_k == 3:\n",
    "        return 21\n",
    "    if n_k == 4:\n",
    "        return 9\n",
    "    if n_k == 5:\n",
    "        return 6\n",
    "    if n_k == 6:\n",
    "        return 5\n",
    "    if n_k == 7 or n_k == 8:\n",
    "        return 4\n",
    "    if n_k > 8 and n_k < 14:\n",
    "        return 3\n",
    "    else:\n",
    "        return 2\n",
    "    pass"
   ]
  },
  {
   "cell_type": "markdown",
   "metadata": {},
   "source": [
    "Check that the number of generated reference points is approximately equal to 250"
   ]
  },
  {
   "cell_type": "code",
   "execution_count": 183,
   "metadata": {},
   "outputs": [
    {
     "name": "stdout",
     "output_type": "stream",
     "text": [
      "n_k = 2, num_ref_points = 251\n",
      "n_k = 3, num_ref_points = 253\n",
      "n_k = 4, num_ref_points = 220\n",
      "n_k = 5, num_ref_points = 210\n",
      "n_k = 6, num_ref_points = 252\n",
      "n_k = 7, num_ref_points = 210\n",
      "n_k = 8, num_ref_points = 330\n",
      "n_k = 9, num_ref_points = 165\n",
      "n_k = 10, num_ref_points = 220\n",
      "n_k = 11, num_ref_points = 286\n",
      "n_k = 12, num_ref_points = 364\n",
      "n_k = 13, num_ref_points = 455\n",
      "n_k = 14, num_ref_points = 105\n",
      "n_k = 15, num_ref_points = 120\n",
      "n_k = 16, num_ref_points = 136\n",
      "n_k = 17, num_ref_points = 153\n",
      "n_k = 18, num_ref_points = 171\n",
      "n_k = 19, num_ref_points = 190\n",
      "n_k = 20, num_ref_points = 210\n",
      "n_k = 21, num_ref_points = 231\n",
      "n_k = 22, num_ref_points = 253\n",
      "n_k = 23, num_ref_points = 276\n",
      "n_k = 24, num_ref_points = 300\n",
      "n_k = 25, num_ref_points = 325\n"
     ]
    }
   ],
   "source": [
    "for n_k_val in range(2, 26):\n",
    "    p_val = get_p(n_k_val)\n",
    "    num_ref_points = len(uniform_reference_points(n_k_val, p_val))\n",
    "    print('n_k = {}, num_ref_points = {}'.format(n_k_val, num_ref_points))"
   ]
  },
  {
   "cell_type": "markdown",
   "metadata": {},
   "source": [
    "Now run NSGA-III"
   ]
  },
  {
   "cell_type": "code",
   "execution_count": 184,
   "metadata": {
    "scrolled": false
   },
   "outputs": [
    {
     "name": "stdout",
     "output_type": "stream",
     "text": [
      "p = 250\n",
      "Using existing knapsack\n",
      "Setting random seed to 20\n",
      "front 1: 2\n",
      "C:\\Users\\Света\\GA\\code/batch-analysis/\n",
      "10\n",
      "20\n",
      "30\n",
      "40\n",
      "50\n",
      "C:\\Users\\Света\\GA\\code/batch-analysis/\n",
      "93005455.023\n",
      "60\n",
      "70\n",
      "80\n",
      "90\n",
      "100\n",
      "C:\\Users\\Света\\GA\\code/batch-analysis/\n",
      "95541519.528\n",
      "110\n",
      "120\n",
      "130\n",
      "140\n",
      "150\n",
      "C:\\Users\\Света\\GA\\code/batch-analysis/\n",
      "96886924.875\n",
      "160\n",
      "170\n",
      "180\n",
      "190\n",
      "200\n",
      "C:\\Users\\Света\\GA\\code/batch-analysis/\n",
      "97309836.0\n",
      "210\n",
      "220\n",
      "230\n",
      "240\n",
      "250\n",
      "C:\\Users\\Света\\GA\\code/batch-analysis/\n",
      "97675851.78\n",
      "260\n",
      "270\n",
      "280\n",
      "290\n",
      "300\n",
      "C:\\Users\\Света\\GA\\code/batch-analysis/\n",
      "97908454.3905\n",
      "310\n",
      "320\n",
      "330\n",
      "340\n",
      "350\n",
      "C:\\Users\\Света\\GA\\code/batch-analysis/\n",
      "98150977.1385\n",
      "360\n",
      "370\n",
      "380\n",
      "390\n",
      "400\n",
      "C:\\Users\\Света\\GA\\code/batch-analysis/\n",
      "98391797.3025\n",
      "410\n",
      "420\n",
      "430\n",
      "440\n",
      "450\n",
      "C:\\Users\\Света\\GA\\code/batch-analysis/\n",
      "98420835.708\n",
      "460\n",
      "470\n",
      "480\n",
      "490\n",
      "500\n",
      "C:\\Users\\Света\\GA\\code/batch-analysis/\n",
      "98420835.708\n",
      "Elapsed 252.42066025733948\n"
     ]
    },
    {
     "data": {
      "text/plain": "<Figure size 432x288 with 1 Axes>",
      "image/png": "[encoded data removed]"
     },
     "metadata": {
      "needs_background": "light"
     },
     "output_type": "display_data"
    }
   ],
   "source": [
    "random.seed(seed_val)\n",
    "\n",
    "p = get_p(n_k)\n",
    "print('p = {}'.format(p))\n",
    "start = time.time()\n",
    "pop_nsga3, stats_nsga3, pop_arr_nsga3 = main_evolve(\n",
    "    algo='NSGA-3',               \n",
    "    knapsack_seed=None,             \n",
    "    n_i=n_i,                     \n",
    "    n_k=n_k,                       \n",
    "    pop_size=pop_size,  \n",
    "    pop_seed=seed_val,\n",
    "    NGEN=ngen,                     \n",
    "    knapsack=knapsack,               \n",
    "    is_unique_solutions=is_unique_solutions,   \n",
    "    num_iter_repair=None,           \n",
    "    mating_algo=mating_algo,       \n",
    "    sel_for_mating=parent_selection_method,      \n",
    "    freq_cald_hypervolume=freq_cal_hypvol, \n",
    "    is_save_all_gen=is_save_all_gen,\n",
    "    mating_prob=mating_prob,\n",
    "    mutate_prob=mutate_prob,\n",
    "    p=p,\n",
    "    freq_print_gen=freq_print_gen,\n",
    ")\n",
    "end = time.time()\n",
    "print('Elapsed {}'.format(end-start))\n",
    "\n",
    "pop = pop_nsga3\n",
    "\n",
    "# plot the values 1st and the 2d objectives for solutions from the last population and the first\n",
    "# front of this population\n",
    "pop_fitness = np.array([ind.fitness.values for ind in pop])\n",
    "plt.scatter(pop_fitness[:, 0], pop_fitness[:, 1], c=\"b\")\n",
    "front_1 = sortNondominated(pop, len(pop), first_front_only=True)\n",
    "front_1_vals = np.array([ind.fitness.values for ind in front_1[0]])\n",
    "plt.scatter(front_1_vals[:, 0], front_1_vals[:, 1], c=\"r\")\n",
    "plt.axis(\"tight\")\n",
    "plt.title('Last population')\n",
    "plt.xlabel('Knapsack 0')\n",
    "plt.ylabel('Knapsack 1')\n",
    "plt.legend(['All solutions', '1st front, {} ({}%)'\n",
    "            .format(len(front_1_vals), len(front_1_vals) * 100. / pop_size)])\n",
    "plt.show()"
   ]
  },
  {
   "cell_type": "markdown",
   "source": [
    "## Eps-MOEA"
   ],
   "metadata": {
    "collapsed": false
   }
  },
  {
   "cell_type": "code",
   "execution_count": 178,
   "outputs": [
    {
     "name": "stdout",
     "output_type": "stream",
     "text": [
      "Using existing knapsack\n",
      "Setting random seed to 20\n",
      "front 1: 2\n",
      "C:\\Users\\Света\\GA\\code/batch-analysis/\n",
      "10\n",
      "20\n",
      "30\n",
      "40\n",
      "50\n",
      "C:\\Users\\Света\\GA\\code/batch-analysis/\n",
      "92440868.4225\n",
      "60\n",
      "70\n",
      "80\n",
      "90\n",
      "100\n",
      "C:\\Users\\Света\\GA\\code/batch-analysis/\n",
      "94901515.02\n",
      "110\n",
      "120\n",
      "130\n",
      "140\n",
      "150\n",
      "C:\\Users\\Света\\GA\\code/batch-analysis/\n",
      "95932672.29\n",
      "160\n",
      "170\n",
      "180\n",
      "190\n",
      "200\n",
      "C:\\Users\\Света\\GA\\code/batch-analysis/\n",
      "95343431.04\n",
      "210\n",
      "220\n",
      "230\n",
      "240\n",
      "250\n",
      "C:\\Users\\Света\\GA\\code/batch-analysis/\n",
      "95653223.757\n",
      "260\n",
      "270\n",
      "280\n",
      "290\n",
      "300\n",
      "C:\\Users\\Света\\GA\\code/batch-analysis/\n",
      "96043757.94\n",
      "310\n",
      "320\n",
      "330\n",
      "340\n",
      "350\n",
      "C:\\Users\\Света\\GA\\code/batch-analysis/\n",
      "96774861.6315\n",
      "360\n",
      "370\n",
      "380\n",
      "390\n",
      "400\n",
      "C:\\Users\\Света\\GA\\code/batch-analysis/\n",
      "97714844.136\n",
      "410\n",
      "420\n",
      "430\n",
      "440\n",
      "450\n",
      "C:\\Users\\Света\\GA\\code/batch-analysis/\n",
      "97602517.35\n",
      "460\n",
      "470\n",
      "480\n",
      "490\n",
      "500\n",
      "C:\\Users\\Света\\GA\\code/batch-analysis/\n",
      "97654341.7395\n",
      "Elapsed 445.33646392822266\n"
     ]
    },
    {
     "data": {
      "text/plain": "<Figure size 432x288 with 1 Axes>",
      "image/png": "[encoded data removed]"
     },
     "metadata": {
      "needs_background": "light"
     },
     "output_type": "display_data"
    }
   ],
   "source": [
    "random.seed(seed_val)\n",
    "\n",
    "start = time.time()\n",
    "pop_po_count, stats_po_count, pop_arr_po_count = main_evolve(\n",
    "    algo='Eps-MOEA',\n",
    "    knapsack_seed=None,\n",
    "    n_i=n_i,\n",
    "    n_k=n_k,\n",
    "    pop_size=pop_size,\n",
    "    pop_seed=seed_val,\n",
    "    NGEN=ngen,\n",
    "    knapsack=knapsack,\n",
    "    is_unique_solutions=is_unique_solutions,\n",
    "    num_iter_repair=None,\n",
    "    mating_algo=mating_algo,\n",
    "    sel_for_mating=parent_selection_method,\n",
    "    freq_cald_hypervolume=freq_cal_hypvol,\n",
    "    is_save_all_gen=is_save_all_gen,\n",
    "    mating_prob=mating_prob,\n",
    "    mutate_prob=mutate_prob,\n",
    "    p=None,\n",
    "    freq_print_gen=10,\n",
    "    epsilon=0.01\n",
    ")\n",
    "end = time.time()\n",
    "print('Elapsed {}'.format(end-start))\n",
    "\n",
    "pop = pop_po_count\n",
    "\n",
    "# plot the values 1st and the 2d objectives for solutions from the last population and the first\n",
    "# front of this population\n",
    "pop_fitness = np.array([ind.fitness.values for ind in pop])\n",
    "plt.scatter(pop_fitness[:, 0], pop_fitness[:, 1], c=\"b\")\n",
    "front_1 = sortNondominated(pop, len(pop), first_front_only=True)\n",
    "front_1_vals = np.array([ind.fitness.values for ind in front_1[0]])\n",
    "plt.scatter(front_1_vals[:, 0], front_1_vals[:, 1], c=\"r\")\n",
    "plt.axis(\"tight\")\n",
    "plt.title('Last population')\n",
    "plt.xlabel('Knapsack 0')\n",
    "plt.ylabel('Knapsack 1')\n",
    "plt.legend(['All solutions', '1st front, {} ({}%)'\n",
    "            .format(len(front_1_vals), len(front_1_vals) * 100. / pop_size)])\n",
    "plt.show()"
   ],
   "metadata": {
    "collapsed": false,
    "pycharm": {
     "name": "#%%\n"
    }
   }
  },
  {
   "cell_type": "markdown",
   "source": [
    "## WS-sorting"
   ],
   "metadata": {
    "collapsed": false
   }
  },
  {
   "cell_type": "code",
   "execution_count": 179,
   "outputs": [
    {
     "name": "stdout",
     "output_type": "stream",
     "text": [
      "Using existing knapsack\n",
      "Setting random seed to 20\n",
      "front 1: 2\n",
      "C:\\Users\\Света\\GA\\code/batch-analysis/\n",
      "10\n",
      "20\n",
      "30\n",
      "40\n",
      "50\n",
      "C:\\Users\\Света\\GA\\code/batch-analysis/\n",
      "93275889.408\n",
      "60\n",
      "70\n",
      "80\n",
      "90\n",
      "100\n",
      "C:\\Users\\Света\\GA\\code/batch-analysis/\n",
      "95874277.239\n",
      "110\n",
      "120\n",
      "130\n",
      "140\n",
      "150\n",
      "C:\\Users\\Света\\GA\\code/batch-analysis/\n",
      "96170811.282\n",
      "160\n",
      "170\n",
      "180\n",
      "190\n",
      "200\n",
      "C:\\Users\\Света\\GA\\code/batch-analysis/\n",
      "97492211.388\n",
      "210\n",
      "220\n",
      "230\n",
      "240\n",
      "250\n",
      "C:\\Users\\Света\\GA\\code/batch-analysis/\n",
      "97646685.084\n",
      "260\n",
      "270\n",
      "280\n",
      "290\n",
      "300\n",
      "C:\\Users\\Света\\GA\\code/batch-analysis/\n",
      "98620841.592\n",
      "310\n",
      "320\n",
      "330\n",
      "340\n",
      "350\n",
      "C:\\Users\\Света\\GA\\code/batch-analysis/\n",
      "98620841.592\n",
      "360\n",
      "370\n",
      "380\n",
      "390\n",
      "400\n",
      "C:\\Users\\Света\\GA\\code/batch-analysis/\n",
      "98912389.212\n",
      "410\n",
      "420\n",
      "430\n",
      "440\n",
      "450\n",
      "C:\\Users\\Света\\GA\\code/batch-analysis/\n",
      "98912389.212\n",
      "460\n",
      "470\n",
      "480\n",
      "490\n",
      "500\n",
      "C:\\Users\\Света\\GA\\code/batch-analysis/\n",
      "99090627.48\n",
      "Elapsed 231.75629472732544\n"
     ]
    },
    {
     "data": {
      "text/plain": "<Figure size 432x288 with 1 Axes>",
      "image/png": "[encoded data removed]"
     },
     "metadata": {
      "needs_background": "light"
     },
     "output_type": "display_data"
    }
   ],
   "source": [
    "random.seed(seed_val)\n",
    "\n",
    "start = time.time()\n",
    "pop_po_count, stats_po_count, pop_arr_po_count = main_evolve(\n",
    "    algo='WS',\n",
    "    knapsack_seed=None,\n",
    "    n_i=n_i,\n",
    "    n_k=n_k,\n",
    "    pop_size=pop_size,\n",
    "    pop_seed=seed_val,\n",
    "    NGEN=ngen,\n",
    "    knapsack=knapsack,\n",
    "    is_unique_solutions=is_unique_solutions,\n",
    "    num_iter_repair=None,\n",
    "    mating_algo=mating_algo,\n",
    "    sel_for_mating=parent_selection_method,\n",
    "    freq_cald_hypervolume=freq_cal_hypvol,\n",
    "    is_save_all_gen=is_save_all_gen,\n",
    "    mating_prob=mating_prob,\n",
    "    mutate_prob=mutate_prob,\n",
    "    p=None,\n",
    "    freq_print_gen=10,\n",
    ")\n",
    "end = time.time()\n",
    "print('Elapsed {}'.format(end-start))\n",
    "\n",
    "pop = pop_po_count\n",
    "\n",
    "# plot the values 1st and the 2d objectives for solutions from the last population and the first\n",
    "# front of this population\n",
    "pop_fitness = np.array([ind.fitness.values for ind in pop])\n",
    "plt.scatter(pop_fitness[:, 0], pop_fitness[:, 1], c=\"b\")\n",
    "front_1 = sortNondominated(pop, len(pop), first_front_only=True)\n",
    "front_1_vals = np.array([ind.fitness.values for ind in front_1[0]])\n",
    "plt.scatter(front_1_vals[:, 0], front_1_vals[:, 1], c=\"r\")\n",
    "plt.axis(\"tight\")\n",
    "plt.title('Last population')\n",
    "plt.xlabel('Knapsack 0')\n",
    "plt.ylabel('Knapsack 1')\n",
    "plt.legend(['All solutions', '1st front, {} ({}%)'\n",
    "            .format(len(front_1_vals), len(front_1_vals) * 100. / pop_size)])\n",
    "plt.show()"
   ],
   "metadata": {
    "collapsed": false,
    "pycharm": {
     "name": "#%%\n"
    }
   }
  },
  {
   "cell_type": "markdown",
   "source": [
    "## AR-sorting"
   ],
   "metadata": {
    "collapsed": false
   }
  },
  {
   "cell_type": "code",
   "execution_count": null,
   "outputs": [],
   "source": [
    "random.seed(seed_val)\n",
    "\n",
    "start = time.time()\n",
    "pop_po_count, stats_po_count, pop_arr_po_count = main_evolve(\n",
    "    algo='AR',\n",
    "    knapsack_seed=None,\n",
    "    n_i=n_i,\n",
    "    n_k=n_k,\n",
    "    pop_size=pop_size,\n",
    "    pop_seed=seed_val,\n",
    "    NGEN=ngen,\n",
    "    knapsack=knapsack,\n",
    "    is_unique_solutions=is_unique_solutions,\n",
    "    num_iter_repair=None,\n",
    "    mating_algo=mating_algo,\n",
    "    sel_for_mating=parent_selection_method,\n",
    "    freq_cald_hypervolume=freq_cal_hypvol,\n",
    "    is_save_all_gen=is_save_all_gen,\n",
    "    mating_prob=mating_prob,\n",
    "    mutate_prob=mutate_prob,\n",
    "    p=None,\n",
    "    freq_print_gen=50,\n",
    ")\n",
    "end = time.time()\n",
    "print('Elapsed {}'.format(end-start))\n",
    "\n",
    "pop = pop_po_count\n",
    "\n",
    "# plot the values 1st and the 2d objectives for solutions from the last population and the first\n",
    "# front of this population\n",
    "pop_fitness = np.array([ind.fitness.values for ind in pop])\n",
    "plt.scatter(pop_fitness[:, 0], pop_fitness[:, 1], c=\"b\")\n",
    "front_1 = sortNondominated(pop, len(pop), first_front_only=True)\n",
    "front_1_vals = np.array([ind.fitness.values for ind in front_1[0]])\n",
    "plt.scatter(front_1_vals[:, 0], front_1_vals[:, 1], c=\"r\")\n",
    "plt.axis(\"tight\")\n",
    "plt.title('Last population')\n",
    "plt.xlabel('Knapsack 0')\n",
    "plt.ylabel('Knapsack 1')\n",
    "plt.legend(['All solutions', '1st front, {} ({}%)'\n",
    "            .format(len(front_1_vals), len(front_1_vals) * 100. / pop_size)])\n",
    "plt.show()"
   ],
   "metadata": {
    "collapsed": false,
    "pycharm": {
     "name": "#%%\n"
    }
   }
  },
  {
   "cell_type": "markdown",
   "metadata": {},
   "source": [
    "## PO-count"
   ]
  },
  {
   "cell_type": "code",
   "execution_count": 181,
   "metadata": {},
   "outputs": [
    {
     "name": "stdout",
     "output_type": "stream",
     "text": [
      "Using existing knapsack\n",
      "Setting random seed to 20\n",
      "front 1: 2\n",
      "C:\\Users\\Света\\GA\\code/batch-analysis/\n",
      "10\n",
      "20\n",
      "30\n",
      "40\n",
      "50\n",
      "C:\\Users\\Света\\GA\\code/batch-analysis/\n",
      "92867782.41\n",
      "60\n",
      "70\n",
      "80\n",
      "90\n",
      "100\n",
      "C:\\Users\\Света\\GA\\code/batch-analysis/\n",
      "95692644.7425\n",
      "110\n",
      "120\n",
      "130\n",
      "140\n",
      "150\n",
      "C:\\Users\\Света\\GA\\code/batch-analysis/\n",
      "97493746.896\n",
      "160\n",
      "170\n",
      "180\n",
      "190\n",
      "200\n",
      "C:\\Users\\Света\\GA\\code/batch-analysis/\n",
      "97628967.072\n",
      "210\n",
      "220\n",
      "230\n",
      "240\n",
      "250\n",
      "C:\\Users\\Света\\GA\\code/batch-analysis/\n",
      "99051539.652\n",
      "260\n",
      "270\n",
      "280\n",
      "290\n",
      "300\n",
      "C:\\Users\\Света\\GA\\code/batch-analysis/\n",
      "99335214.81\n",
      "310\n",
      "320\n",
      "330\n",
      "340\n",
      "350\n",
      "C:\\Users\\Света\\GA\\code/batch-analysis/\n",
      "99335214.81\n",
      "360\n",
      "370\n",
      "380\n",
      "390\n",
      "400\n",
      "C:\\Users\\Света\\GA\\code/batch-analysis/\n",
      "99335214.81\n",
      "410\n",
      "420\n",
      "430\n",
      "440\n",
      "450\n",
      "C:\\Users\\Света\\GA\\code/batch-analysis/\n",
      "99423251.928\n",
      "460\n",
      "470\n",
      "480\n",
      "490\n",
      "500\n",
      "C:\\Users\\Света\\GA\\code/batch-analysis/\n",
      "99511289.046\n",
      "Elapsed 223.65194129943848\n"
     ]
    },
    {
     "data": {
      "text/plain": "<Figure size 432x288 with 1 Axes>",
      "image/png": "[encoded data removed]"
     },
     "metadata": {
      "needs_background": "light"
     },
     "output_type": "display_data"
    }
   ],
   "source": [
    "random.seed(seed_val)\n",
    "\n",
    "start = time.time()\n",
    "pop_po_count, stats_po_count, pop_arr_po_count = main_evolve(\n",
    "    algo='PO-count',               \n",
    "    knapsack_seed=None,             \n",
    "    n_i=n_i,                     \n",
    "    n_k=n_k,                       \n",
    "    pop_size=pop_size,  \n",
    "    pop_seed=seed_val,\n",
    "    NGEN=500,\n",
    "    knapsack=knapsack,               \n",
    "    is_unique_solutions=is_unique_solutions,   \n",
    "    num_iter_repair=None,           \n",
    "    mating_algo=mating_algo,       \n",
    "    sel_for_mating=parent_selection_method,      \n",
    "    freq_cald_hypervolume=freq_cal_hypvol, \n",
    "    is_save_all_gen=is_save_all_gen,\n",
    "    mating_prob=mating_prob,\n",
    "    mutate_prob=mutate_prob,\n",
    "    p=None,\n",
    "    freq_print_gen=freq_print_gen,\n",
    ")\n",
    "end = time.time()\n",
    "print('Elapsed {}'.format(end-start))\n",
    "\n",
    "pop = pop_po_count\n",
    "\n",
    "# plot the values 1st and the 2d objectives for solutions from the last population and the first\n",
    "# front of this population\n",
    "pop_fitness = np.array([ind.fitness.values for ind in pop])\n",
    "plt.scatter(pop_fitness[:, 0], pop_fitness[:, 1], c=\"b\")\n",
    "front_1 = sortNondominated(pop, len(pop), first_front_only=True)\n",
    "front_1_vals = np.array([ind.fitness.values for ind in front_1[0]])\n",
    "plt.scatter(front_1_vals[:, 0], front_1_vals[:, 1], c=\"r\")\n",
    "plt.axis(\"tight\")\n",
    "plt.title('Last population')\n",
    "plt.xlabel('Knapsack 0')\n",
    "plt.ylabel('Knapsack 1')\n",
    "plt.legend(['All solutions', '1st front, {} ({}%)'\n",
    "            .format(len(front_1_vals), len(front_1_vals) * 100. / pop_size)])\n",
    "plt.show()"
   ]
  },
  {
   "cell_type": "markdown",
   "metadata": {},
   "source": [
    "## PO-prob"
   ]
  },
  {
   "cell_type": "code",
   "execution_count": null,
   "metadata": {
    "scrolled": false
   },
   "outputs": [],
   "source": [
    "random.seed(seed_val)\n",
    "\n",
    "start = time.time()\n",
    "pop_po_prob, stats_po_prob, pop_arr_po_prob = main_evolve(\n",
    "    algo='PO-prob',               \n",
    "    knapsack_seed=None,             \n",
    "    n_i=n_i,                     \n",
    "    n_k=n_k,                       \n",
    "    pop_size=pop_size,  \n",
    "    pop_seed=seed_val,\n",
    "    NGEN=ngen,                     \n",
    "    knapsack=knapsack,               \n",
    "    is_unique_solutions=is_unique_solutions,   \n",
    "    num_iter_repair=None,           \n",
    "    mating_algo=mating_algo,       \n",
    "    sel_for_mating=parent_selection_method,      \n",
    "    freq_cald_hypervolume=freq_cal_hypvol, \n",
    "    is_save_all_gen=is_save_all_gen,\n",
    "    mating_prob=mating_prob,\n",
    "    mutate_prob=mutate_prob,\n",
    "    p=None,\n",
    "    freq_print_gen=freq_print_gen,\n",
    ")\n",
    "end = time.time()\n",
    "print('Elapsed {}'.format(end-start))\n",
    "\n",
    "pop = pop_po_prob\n",
    "\n",
    "# plot the values 1st and the 2d objectives for solutions from the last population and the first\n",
    "# front of this population\n",
    "pop_fitness = np.array([ind.fitness.values for ind in pop])\n",
    "plt.scatter(pop_fitness[:, 0], pop_fitness[:, 1], c=\"b\")\n",
    "front_1 = sortNondominated(pop, len(pop), first_front_only=True)\n",
    "front_1_vals = np.array([ind.fitness.values for ind in front_1[0]])\n",
    "plt.scatter(front_1_vals[:, 0], front_1_vals[:, 1], c=\"r\")\n",
    "plt.axis(\"tight\")\n",
    "plt.title('Last population')\n",
    "plt.xlabel('Knapsack 0')\n",
    "plt.ylabel('Knapsack 1')\n",
    "plt.legend(['All solutions', '1st front, {} ({}%)'\n",
    "            .format(len(front_1_vals), len(front_1_vals) * 100. / pop_size)])\n",
    "plt.show()"
   ]
  },
  {
   "cell_type": "markdown",
   "metadata": {},
   "source": [
    "## PO-prob-repair"
   ]
  },
  {
   "cell_type": "code",
   "execution_count": null,
   "metadata": {
    "scrolled": false
   },
   "outputs": [],
   "source": [
    "# use NSGA-II selection procedure for the last num_iter_repair generations\n",
    "num_iter_repair = 150\n",
    "\n",
    "random.seed(seed_val)\n",
    "\n",
    "start = time.time()\n",
    "pop_po_prob_repair, stats_po_prob_repair, pop_arr_po_prob_repair = main_evolve(\n",
    "    algo='PO-prob-repair',               \n",
    "    knapsack_seed=None,             \n",
    "    n_i=n_i,                     \n",
    "    n_k=n_k,                       \n",
    "    pop_size=pop_size,  \n",
    "    pop_seed=seed_val,\n",
    "    NGEN=ngen,                     \n",
    "    knapsack=knapsack,               \n",
    "    is_unique_solutions=is_unique_solutions,   \n",
    "    num_iter_repair=num_iter_repair,           \n",
    "    mating_algo=mating_algo,       \n",
    "    sel_for_mating=parent_selection_method,      \n",
    "    freq_cald_hypervolume=freq_cal_hypvol, \n",
    "    is_save_all_gen=is_save_all_gen,\n",
    "    mating_prob=mating_prob,\n",
    "    mutate_prob=mutate_prob,\n",
    "    p=None,\n",
    "    freq_print_gen=freq_print_gen,\n",
    ")\n",
    "end = time.time()\n",
    "print('Elapsed {}'.format(end-start))\n",
    "\n",
    "pop = pop_po_prob_repair\n",
    "\n",
    "# plot the values 1st and the 2d objectives for solutions from the last population and the first\n",
    "# front of this population\n",
    "pop_fitness = np.array([ind.fitness.values for ind in pop])\n",
    "plt.scatter(pop_fitness[:, 0], pop_fitness[:, 1], c=\"b\")\n",
    "front_1 = sortNondominated(pop, len(pop), first_front_only=True)\n",
    "front_1_vals = np.array([ind.fitness.values for ind in front_1[0]])\n",
    "plt.scatter(front_1_vals[:, 0], front_1_vals[:, 1], c=\"r\")\n",
    "plt.axis(\"tight\")\n",
    "plt.title('Last population')\n",
    "plt.xlabel('Knapsack 0')\n",
    "plt.ylabel('Knapsack 1')\n",
    "plt.legend(['All solutions', '1st front, {} ({}%)'\n",
    "            .format(len(front_1_vals), len(front_1_vals) * 100. / pop_size)])\n",
    "plt.show()\n"
   ]
  },
  {
   "cell_type": "markdown",
   "metadata": {},
   "source": [
    "# Results"
   ]
  },
  {
   "cell_type": "markdown",
   "metadata": {},
   "source": [
    "## Visualization of evolution"
   ]
  },
  {
   "cell_type": "markdown",
   "metadata": {},
   "source": [
    "Let us now visualize the evolution of solutions together with the evolution of hypervolume"
   ]
  },
  {
   "cell_type": "code",
   "execution_count": null,
   "metadata": {
    "scrolled": false
   },
   "outputs": [],
   "source": [
    "fig, ax = plt.subplots(nrows=1, ncols=2, figsize=(13,5))\n",
    "# display every `coef` generation \n",
    "coef = 10\n",
    "all_hyp_arr = [\n",
    "    #stats_nsga2.select('hypervol')[::coef],\n",
    "    #stats_nsga3.select('hypervol')[::coef],\n",
    "    #stats_po_count.select('hypervol')[::coef],\n",
    "    stats_po_prob.select('hypervol')[::coef],\n",
    "    stats_po_prob_repair.select('hypervol')[::coef],\n",
    "]\n",
    "all_pop_arr = [\n",
    "    #pop_arr_nsga2[::coef], \n",
    "    #pop_arr_nsga3[::coef], \n",
    "    #pop_arr_po_count[::coef], \n",
    "    pop_arr_po_prob[::coef],\n",
    "    pop_arr_po_prob_repair[::coef],\n",
    "]\n",
    "legend_arr= [\n",
    "    #'NSGA-II', \n",
    "    #'NSGA-III',\n",
    "    #'PO-count',  \n",
    "    'PO-prob',\n",
    "    'PO-prob-repair'\n",
    "]\n",
    "\n",
    "ud = UpdateDist(\n",
    "    ax, \n",
    "    all_pop_arr=all_pop_arr, \n",
    "    all_hypervolume_arr=all_hyp_arr, \n",
    "    legend_arr=legend_arr, \n",
    "    n_obj=n_k, \n",
    "    gen_mult=coef,\n",
    "    k_0=0,            # objectives to be visualized\n",
    "    k_1=1,\n",
    ")\n",
    "anim = FuncAnimation(fig, \n",
    "                     ud, \n",
    "                     frames=int(len(pop_arr_nsga2)/coef),\n",
    "                     interval=200, \n",
    "                     blit=True,\n",
    "                    )\n",
    "plt.close()\n",
    "HTML(anim.to_html5_video())"
   ]
  },
  {
   "cell_type": "markdown",
   "metadata": {},
   "source": [
    "## Fraction of dominated solutions"
   ]
  },
  {
   "cell_type": "markdown",
   "metadata": {},
   "source": [
    "Check whose solutions are dominating"
   ]
  },
  {
   "cell_type": "code",
   "execution_count": null,
   "metadata": {},
   "outputs": [],
   "source": [
    "print('For the last generation')\n",
    "print('solutions of the first front of algorithm 1 dominated by the solutions of the first front of algorithm 2')\n",
    "res = get_num_dominated(pop_arr_nsga2[-1], pop_arr_nsga3[-1])\n",
    "print('NSGA-2   vs   NSGA-3   : dominated solutions = {}, {}%'.format(res[0], np.round(res[1]*100, 2)))\n",
    "res = get_num_dominated(pop_arr_nsga3[-1], pop_arr_nsga2[-1])\n",
    "print('NSGA-3   vs   NSGA-2   : dominated solutions = {}, {}%'.format(res[0], np.round(res[1]*100, 2)))"
   ]
  },
  {
   "cell_type": "markdown",
   "metadata": {},
   "source": [
    "## Other metrics"
   ]
  },
  {
   "cell_type": "markdown",
   "metadata": {},
   "source": [
    "Let us now plot the results for other metrics"
   ]
  },
  {
   "cell_type": "code",
   "execution_count": null,
   "metadata": {},
   "outputs": [],
   "source": [
    "# legend for displaying\n",
    "legend_arr= [\n",
    "    'NSGA-II', \n",
    "    'NSGA-III',\n",
    "    'PO-count',  \n",
    "    'PO-prob',\n",
    "    'PO-prob-repair'\n",
    "]"
   ]
  },
  {
   "cell_type": "markdown",
   "metadata": {},
   "source": [
    "Average distance to diagonal"
   ]
  },
  {
   "cell_type": "code",
   "execution_count": null,
   "metadata": {},
   "outputs": [],
   "source": [
    "param = 'dist_diag'\n",
    "title = 'Average distance to diagonal'\n",
    "\n",
    "plt.plot(stats_nsga2.select(param))\n",
    "plt.plot(stats_nsga3.select(param))\n",
    "plt.plot(stats_po_count.select(param))\n",
    "plt.plot(stats_po_prob.select(param))\n",
    "plt.plot(stats_po_prob_repair.select(param))\n",
    "plt.legend(legend_arr)\n",
    "plt.xlabel('Generation')\n",
    "plt.title(title)\n",
    "plt.grid(True)\n",
    "plt.show()"
   ]
  },
  {
   "cell_type": "markdown",
   "metadata": {},
   "source": [
    "Time for selection of new generation in sec"
   ]
  },
  {
   "cell_type": "code",
   "execution_count": null,
   "metadata": {},
   "outputs": [],
   "source": [
    "param = 'time'\n",
    "title = 'Time for selection of the new population, sec'\n",
    "\n",
    "plt.plot(stats_nsga2.select(param))\n",
    "plt.plot(stats_nsga3.select(param))\n",
    "plt.plot(stats_po_count.select(param))\n",
    "plt.plot(stats_po_prob.select(param))\n",
    "plt.plot(stats_po_prob_repair.select(param))\n",
    "plt.legend(legend_arr)\n",
    "plt.xlabel('Generation')\n",
    "plt.title(title)\n",
    "plt.grid(True)\n",
    "plt.show()"
   ]
  },
  {
   "cell_type": "markdown",
   "metadata": {},
   "source": [
    "Size of the first front"
   ]
  },
  {
   "cell_type": "code",
   "execution_count": null,
   "metadata": {},
   "outputs": [],
   "source": [
    "param = 'firts_front'\n",
    "title = 'Size of the first front'\n",
    "\n",
    "plt.plot(stats_nsga2.select(param))\n",
    "plt.plot(stats_nsga3.select(param))\n",
    "plt.plot(stats_po_count.select(param))\n",
    "plt.plot(stats_po_prob.select(param))\n",
    "plt.plot(stats_po_prob_repair.select(param))\n",
    "plt.legend(legend_arr)\n",
    "plt.xlabel('Generation')\n",
    "plt.title(title)\n",
    "plt.grid(True)\n",
    "plt.show()"
   ]
  },
  {
   "cell_type": "markdown",
   "metadata": {},
   "source": [
    "Average value of a particual objective"
   ]
  },
  {
   "cell_type": "code",
   "execution_count": null,
   "metadata": {},
   "outputs": [],
   "source": [
    "param = 'avg'\n",
    "# change this value to display other objectives\n",
    "objective_index = 0\n",
    "title = 'Average for objective {}'.format(objective_index)\n",
    "\n",
    "plt.plot(np.array(stats_nsga2.select(param)).T[objective_index])\n",
    "plt.plot(np.array(stats_nsga3.select(param)).T[objective_index])\n",
    "plt.plot(np.array(stats_po_count.select(param)).T[objective_index])\n",
    "plt.plot(np.array(stats_po_prob.select(param)).T[objective_index])\n",
    "plt.plot(np.array(stats_po_prob_repair.select(param)).T[objective_index])\n",
    "plt.legend(legend_arr)\n",
    "plt.xlabel('Generation')\n",
    "plt.title(title)\n",
    "plt.grid(True)\n",
    "plt.show()"
   ]
  },
  {
   "cell_type": "markdown",
   "metadata": {},
   "source": [
    "Max value of a particual objective"
   ]
  },
  {
   "cell_type": "code",
   "execution_count": null,
   "metadata": {},
   "outputs": [],
   "source": [
    "param = 'max'\n",
    "# change this value to display other objectives\n",
    "objective_index = 0\n",
    "title = 'Max for objective {}'.format(objective_index)\n",
    "\n",
    "plt.plot(np.array(stats_nsga2.select(param)).T[objective_index])\n",
    "plt.plot(np.array(stats_nsga3.select(param)).T[objective_index])\n",
    "plt.plot(np.array(stats_po_count.select(param)).T[objective_index])\n",
    "plt.plot(np.array(stats_po_prob.select(param)).T[objective_index])\n",
    "plt.plot(np.array(stats_po_prob_repair.select(param)).T[objective_index])\n",
    "plt.legend(legend_arr)\n",
    "plt.xlabel('Generation')\n",
    "plt.title(title)\n",
    "plt.grid(True)\n",
    "plt.show()"
   ]
  },
  {
   "cell_type": "markdown",
   "metadata": {},
   "source": [
    "Min value of a particual objective"
   ]
  },
  {
   "cell_type": "code",
   "execution_count": null,
   "metadata": {},
   "outputs": [],
   "source": [
    "param = 'min'\n",
    "# change this value to display other objectives\n",
    "objective_index = 0\n",
    "title = 'Min for objective {}'.format(objective_index)\n",
    "\n",
    "plt.plot(np.array(stats_nsga2.select(param)).T[objective_index])\n",
    "plt.plot(np.array(stats_nsga3.select(param)).T[objective_index])\n",
    "plt.plot(np.array(stats_po_count.select(param)).T[objective_index])\n",
    "plt.plot(np.array(stats_po_prob.select(param)).T[objective_index])\n",
    "plt.plot(np.array(stats_po_prob_repair.select(param)).T[objective_index])\n",
    "plt.legend(legend_arr)\n",
    "plt.xlabel('Generation')\n",
    "plt.title(title)\n",
    "plt.grid(True)\n",
    "plt.show()"
   ]
  },
  {
   "cell_type": "code",
   "execution_count": null,
   "metadata": {},
   "outputs": [],
   "source": []
  },
  {
   "cell_type": "code",
   "execution_count": null,
   "metadata": {},
   "outputs": [],
   "source": []
  }
 ],
 "metadata": {
  "kernelspec": {
   "display_name": "PyCharm (GA)",
   "language": "python",
   "name": "pycharm-2d64c797"
  },
  "language_info": {
   "codemirror_mode": {
    "name": "ipython",
    "version": 3
   },
   "file_extension": ".py",
   "mimetype": "text/x-python",
   "name": "python",
   "nbconvert_exporter": "python",
   "pygments_lexer": "ipython3",
   "version": "3.9.1"
  },
  "toc": {
   "base_numbering": 1,
   "nav_menu": {},
   "number_sections": true,
   "sideBar": true,
   "skip_h1_title": false,
   "title_cell": "Table of Contents",
   "title_sidebar": "Contents",
   "toc_cell": false,
   "toc_position": {
    "height": "calc(100% - 180px)",
    "left": "10px",
    "top": "150px",
    "width": "310.333px"
   },
   "toc_section_display": true,
   "toc_window_display": true
  },
  "varInspector": {
   "cols": {
    "lenName": 16,
    "lenType": 16,
    "lenVar": 40
   },
   "kernels_config": {
    "python": {
     "delete_cmd_postfix": "",
     "delete_cmd_prefix": "del ",
     "library": "var_list.py",
     "varRefreshCmd": "print(var_dic_list())"
    },
    "r": {
     "delete_cmd_postfix": ") ",
     "delete_cmd_prefix": "rm(",
     "library": "var_list.r",
     "varRefreshCmd": "cat(var_dic_list()) "
    }
   },
   "types_to_exclude": [
    "module",
    "function",
    "builtin_function_or_method",
    "instance",
    "_Feature"
   ],
   "window_display": false
  }
 },
 "nbformat": 4,
 "nbformat_minor": 4
}